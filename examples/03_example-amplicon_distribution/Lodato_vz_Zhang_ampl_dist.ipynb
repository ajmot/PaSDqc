{
 "cells": [
  {
   "cell_type": "markdown",
   "metadata": {},
   "source": [
    "## Introduction\n",
    "\n",
    "In this notebook we compare the amplicon distributions from [Lodato et al, 2015](http://science.sciencemag.org/content/350/6256/94.long) and [Zhang et al, 2015](http://www.nature.com/nature/journal/v522/n7555/full/nature14493.html?foxtrotcallback=true)"
   ]
  },
  {
   "cell_type": "code",
   "execution_count": 1,
   "metadata": {
    "collapsed": false
   },
   "outputs": [],
   "source": [
    "import pandas as pd\n",
    "import numpy as np\n",
    "import matplotlib.pyplot as plt\n",
    "import seaborn as sns\n",
    "import scipy.stats\n",
    "import scipy.optimize\n",
    "import sys\n",
    "\n",
    "import PaSDqc\n",
    "\n",
    "%matplotlib inline"
   ]
  },
  {
   "cell_type": "markdown",
   "metadata": {},
   "source": [
    "Load the data"
   ]
  },
  {
   "cell_type": "code",
   "execution_count": 2,
   "metadata": {
    "collapsed": false
   },
   "outputs": [],
   "source": [
    "p_1465 = \"../data/Lodato_2015/1465/psd/\"\n",
    "freq, nd_1465, sl_14165 = PaSDqc.extra_tools.mk_ndarray(p_1465)"
   ]
  },
  {
   "cell_type": "code",
   "execution_count": 4,
   "metadata": {
    "collapsed": false
   },
   "outputs": [],
   "source": [
    "p_4638 = \"../data/Lodato_2015/4638/psd/\"\n",
    "freq, nd_4638, sl_4638 = PaSDqc.extra_tools.mk_ndarray(p_4638)"
   ]
  },
  {
   "cell_type": "code",
   "execution_count": 6,
   "metadata": {
    "collapsed": false
   },
   "outputs": [],
   "source": [
    "p_4643 = \"../data/Lodato_2015/4643/psd\"\n",
    "freq, nd_4643, sl_4643 = PaSDqc.extra_tools.mk_ndarray(p_4643)"
   ]
  },
  {
   "cell_type": "code",
   "execution_count": 7,
   "metadata": {
    "collapsed": false
   },
   "outputs": [],
   "source": [
    "p_cz = \"../data/Zhang_2015/psd/\"\n",
    "freq, nd_cz, sl_cz = PaSDqc.extra_tools.mk_ndarray(p_cz)"
   ]
  },
  {
   "cell_type": "code",
   "execution_count": 9,
   "metadata": {
    "collapsed": true
   },
   "outputs": [],
   "source": [
    "f_norm = PaSDqc.extra_tools.get_data_file(\"bulk_1x.smooth3.spec\")\n",
    "bulk_norm = pd.Series.from_csv(f_norm, index_col=0, sep=\"\\t\").as_matrix()"
   ]
  },
  {
   "cell_type": "markdown",
   "metadata": {},
   "source": [
    "Define fit functions since we're working with array data now"
   ]
  },
  {
   "cell_type": "code",
   "execution_count": 10,
   "metadata": {
    "collapsed": true
   },
   "outputs": [],
   "source": [
    "def func_erf(x, inter, asym, mu, sigma):\n",
    "    return inter + asym * scipy.special.erf((x-mu) / (np.sqrt(2) * sigma))"
   ]
  },
  {
   "cell_type": "code",
   "execution_count": null,
   "metadata": {
    "collapsed": true
   },
   "outputs": [],
   "source": [
    "def func_erf2(x, inter, asym, mu, sigma):\n",
    "    return inter + asym * scipy.special.erf((x) / (np.sqrt(2) * sigma))"
   ]
  },
  {
   "cell_type": "code",
   "execution_count": 11,
   "metadata": {
    "collapsed": true
   },
   "outputs": [],
   "source": [
    "def fit_curve(freq, nd):\n",
    "    l_params = []\n",
    "    freq_cut = freq[freq < 1e-3]\n",
    "    freq_cut_scale = -np.log10(freq_cut)\n",
    "    \n",
    "    for psd in nd:\n",
    "        psd_mda = 10*np.log10(psd / bulk_norm)\n",
    "        psd_mda_cut = psd_mda[freq < 1e-3]\n",
    "        try:\n",
    "            l_params.append(scipy.optimize.curve_fit(func_erf, freq_cut_scale, psd_mda_cut)[0])\n",
    "        except:\n",
    "            pass\n",
    "        \n",
    "    return l_params"
   ]
  },
  {
   "cell_type": "code",
   "execution_count": 13,
   "metadata": {
    "collapsed": true
   },
   "outputs": [],
   "source": [
    "lp_1465 = fit_curve(freq, nd_1465)\n",
    "lp_4638 = fit_curve(freq, nd_4638)\n",
    "lp_4643 = fit_curve(freq, nd_4643[1:, :])\n",
    "lp_cz = fit_curve(freq, nd_cz)"
   ]
  },
  {
   "cell_type": "markdown",
   "metadata": {},
   "source": [
    "Fit the Gaussian distributions"
   ]
  },
  {
   "cell_type": "code",
   "execution_count": 15,
   "metadata": {
    "collapsed": true
   },
   "outputs": [],
   "source": [
    "def gaussian2(l_params, freq_eval):\n",
    "    l_pdf = []\n",
    "    for p in l_params:\n",
    "        pdf = scipy.stats.norm(loc=p[2], scale=p[3])\n",
    "        l_pdf.append(pdf.pdf(freq_eval))\n",
    "        \n",
    "    return l_pdf"
   ]
  },
  {
   "cell_type": "code",
   "execution_count": 16,
   "metadata": {
    "collapsed": false
   },
   "outputs": [],
   "source": [
    "freq_eval = np.arange(3, 5.5, 0.01)\n",
    "l_pdf_1465 = gaussian2(lp_1465, freq_eval)\n",
    "l_pdf_4638 = gaussian2(lp_4638, freq_eval)\n",
    "l_pdf_4643 = gaussian2(lp_4643, freq_eval)\n",
    "\n",
    "freq_eval2 = np.arange(2.5, 5, 0.01)\n",
    "l_pdf_cz = gaussian2(lp_cz, freq_eval2)"
   ]
  },
  {
   "cell_type": "code",
   "execution_count": 18,
   "metadata": {
    "collapsed": true
   },
   "outputs": [],
   "source": [
    "pdf_alk = np.array(l_pdf_1465+l_pdf_4638+l_pdf_4643)\n",
    "pdf_alk_avg = np.mean(pdf_alk, axis=0)\n",
    "pdf_alk_std = np.std(pdf_alk, axis=0)\n",
    "\n",
    "pdf_cz = np.array(l_pdf_cz)\n",
    "pdf_cz_avg = np.mean(pdf_cz, axis=0)\n",
    "pdf_cz_std = np.std(pdf_cz, axis=0)"
   ]
  },
  {
   "cell_type": "markdown",
   "metadata": {},
   "source": [
    "Save the data"
   ]
  },
  {
   "cell_type": "code",
   "execution_count": 32,
   "metadata": {
    "collapsed": false
   },
   "outputs": [],
   "source": [
    "pd.DataFrame(np.array([pdf_alk_avg, pdf_alk_std]).T, columns=['avg', 'std']).to_csv(\"Ampl_dist_lodato.txt\", sep=\"\\t\", index=False)\n",
    "pd.DataFrame(np.array([pdf_cz_avg, pdf_cz_std]).T, columns=['avg', 'std']).to_csv(\"Ampl_dist_CZ.txt\", sep=\"\\t\", index=False)"
   ]
  },
  {
   "cell_type": "markdown",
   "metadata": {},
   "source": [
    "Plot"
   ]
  },
  {
   "cell_type": "code",
   "execution_count": 102,
   "metadata": {
    "collapsed": true
   },
   "outputs": [],
   "source": [
    "sns.set_style('ticks', {'ytick.minor.size': 0.0, 'xtick.minor.size': 0.0})\n",
    "sns.set_context('talk')"
   ]
  },
  {
   "cell_type": "code",
   "execution_count": 35,
   "metadata": {
    "collapsed": false
   },
   "outputs": [
    {
     "data": {
      "image/png": "[encoded data removed]",
      "text/plain": [
       "<matplotlib.figure.Figure at 0x2b766a7e4668>"
      ]
     },
     "metadata": {},
     "output_type": "display_data"
    }
   ],
   "source": [
    "cp = sns.color_palette()\n",
    "plt.figure(figsize=(10, 4))\n",
    "plt.plot(10**freq_eval, pdf_alk_avg, label='Lodato et al, 2015')\n",
    "plt.fill_between(10**freq_eval, pdf_alk_avg-pdf_alk_std, pdf_alk_avg+pdf_alk_std, alpha=0.3)\n",
    "\n",
    "plt.plot(10**freq_eval2, pdf_cz_avg, label='Zhang et al, 2015')\n",
    "plt.fill_between(10**freq_eval2, pdf_cz_avg-pdf_cz_std, pdf_cz_avg+pdf_cz_std, alpha=0.3, color=cp[1])\n",
    "plt.legend()\n",
    "plt.xscale('log')\n",
    "plt.xlabel('Amplicon size (bp)')\n",
    "plt.ylabel('Density')\n",
    "\n",
    "sns.despine()"
   ]
  },
  {
   "cell_type": "code",
   "execution_count": null,
   "metadata": {
    "collapsed": true
   },
   "outputs": [],
   "source": []
  }
 ],
 "metadata": {
  "anaconda-cloud": {},
  "kernelspec": {
   "display_name": "Python [conda env:test1]",
   "language": "python",
   "name": "conda-env-test1-py"
  },
  "language_info": {
   "codemirror_mode": {
    "name": "ipython",
    "version": 3
   },
   "file_extension": ".py",
   "mimetype": "text/x-python",
   "name": "python",
   "nbconvert_exporter": "python",
   "pygments_lexer": "ipython3",
   "version": "3.6.1"
  }
 },
 "nbformat": 4,
 "nbformat_minor": 1
}
